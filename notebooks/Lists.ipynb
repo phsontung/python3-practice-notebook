{
 "cells": [
  {
   "cell_type": "markdown",
   "metadata": {},
   "source": [
    "# Quiz\n",
    "\n",
    "### 1. Cho dãy dữ liệu như sau:\n",
    "```python\n",
    "fruits = ['orange', 'banana', 'cherry', 'grape', 'blueberry']\n",
    "```\n",
    "\n",
    "Để truy xuất được `grape`, cách nào sau đây là đúng?\n",
    "- [ ] A. fruits[3]\n",
    "- [ ] B. fruits[2]\n",
    "- [ ] C. fruits[-1]\n",
    "- [ ] Cả A và C đều đúng"
   ]
  },
  {
   "cell_type": "markdown",
   "metadata": {},
   "source": [
    "# Exercise - Bài tập thực hành\n",
    "\n",
    "### 1. Thao tác trên dãy (Điền vào chỗ trống ___)"
   ]
  },
  {
   "cell_type": "code",
   "execution_count": 3,
   "metadata": {},
   "outputs": [
    {
     "ename": "AttributeError",
     "evalue": "'list' object has no attribute '___'",
     "output_type": "error",
     "traceback": [
      "\u001b[0;31m---------------------------------------------------------------------------\u001b[0m",
      "\u001b[0;31mAttributeError\u001b[0m                            Traceback (most recent call last)",
      "\u001b[0;32m<ipython-input-3-ddef7111b539>\u001b[0m in \u001b[0;36m<module>\u001b[0;34m\u001b[0m\n\u001b[1;32m      1\u001b[0m \u001b[0mfruits\u001b[0m \u001b[0;34m=\u001b[0m \u001b[0;34m[\u001b[0m\u001b[0;34m'orange'\u001b[0m\u001b[0;34m,\u001b[0m \u001b[0;34m'banana'\u001b[0m\u001b[0;34m,\u001b[0m \u001b[0;34m'cherry'\u001b[0m\u001b[0;34m,\u001b[0m \u001b[0;34m'grape'\u001b[0m\u001b[0;34m,\u001b[0m \u001b[0;34m'blueberry'\u001b[0m\u001b[0;34m]\u001b[0m\u001b[0;34m\u001b[0m\u001b[0m\n\u001b[1;32m      2\u001b[0m \u001b[0;34m\u001b[0m\u001b[0m\n\u001b[0;32m----> 3\u001b[0;31m \u001b[0mfruits\u001b[0m\u001b[0;34m.\u001b[0m\u001b[0m___\u001b[0m\u001b[0;34m(\u001b[0m\u001b[0;34m'cherry'\u001b[0m\u001b[0;34m)\u001b[0m\u001b[0;34m\u001b[0m\u001b[0m\n\u001b[0m\u001b[1;32m      4\u001b[0m \u001b[0mfruits\u001b[0m \u001b[0;34m=\u001b[0m \u001b[0mfruits\u001b[0m\u001b[0;34m[\u001b[0m\u001b[0;34m:\u001b[0m\u001b[0m___\u001b[0m\u001b[0;34m]\u001b[0m\u001b[0;34m\u001b[0m\u001b[0m\n\u001b[1;32m      5\u001b[0m \u001b[0mfruits\u001b[0m\u001b[0;34m.\u001b[0m\u001b[0m___\u001b[0m\u001b[0;34m(\u001b[0m\u001b[0m___\u001b[0m\u001b[0;34m,\u001b[0m \u001b[0;34m'cacao'\u001b[0m\u001b[0;34m)\u001b[0m\u001b[0;34m\u001b[0m\u001b[0m\n",
      "\u001b[0;31mAttributeError\u001b[0m: 'list' object has no attribute '___'"
     ]
    }
   ],
   "source": [
    "fruits = ['orange', 'banana', 'cherry', 'grape', 'blueberry']\n",
    "\n",
    "fruits.___('cherry')\n",
    "fruits = fruits[:___]\n",
    "fruits.___(___, 'cacao')\n",
    "fruits.___()"
   ]
  },
  {
   "cell_type": "code",
   "execution_count": null,
   "metadata": {},
   "outputs": [],
   "source": [
    "if (fruits == ['banana', 'cacao', 'grape', 'orange']):\n",
    "    print(\"PASS\")\n",
    "else:\n",
    "    print(\"FAIL\")"
   ]
  },
  {
   "cell_type": "markdown",
   "metadata": {},
   "source": [
    "### 2. Lấy thông tin thời tiết của các thành phố (điền vào chỗ trống __)\n",
    "\n",
    "Lấy thông tin thời tiết hiện tại của Tokyo và Paris, sử dụng API từ https://www.metaweather.com/api/"
   ]
  },
  {
   "cell_type": "code",
   "execution_count": 9,
   "metadata": {},
   "outputs": [],
   "source": [
    "#### Import các modules cần thiết\n",
    "\n",
    "import json\n",
    "import requests"
   ]
  },
  {
   "cell_type": "code",
   "execution_count": 10,
   "metadata": {},
   "outputs": [],
   "source": [
    "#### Tìm định danh cho Tokyo và Paris\n",
    "\n",
    "def get_woeid(location):\n",
    "    \"\"\"\n",
    "    param location Str name of city or location\n",
    "    return woeid Where On Earth ID\n",
    "    \"\"\"\n",
    "    api_url = 'https://www.metaweather.com/api/location/search/?query={}'.format(location)\n",
    "    headers = {}\n",
    "    response = requests.get(api_url, headers=headers)\n",
    "\n",
    "    if response.status_code == 200:\n",
    "        return json.loads(response.content.decode('utf-8'))\n",
    "    else:\n",
    "        return []"
   ]
  },
  {
   "cell_type": "code",
   "execution_count": 11,
   "metadata": {},
   "outputs": [
    {
     "name": "stdout",
     "output_type": "stream",
     "text": [
      "PASS\n"
     ]
    }
   ],
   "source": [
    "tokyo_ids = get_woeid('Tokyo')\n",
    "if tokyo_ids[0]['woeid'] == 1118370:\n",
    "    print(\"PASS\")\n",
    "else:\n",
    "    print(\"FAIL\")"
   ]
  },
  {
   "cell_type": "code",
   "execution_count": 12,
   "metadata": {},
   "outputs": [],
   "source": [
    "def get_weather(woeid):\n",
    "    \"\"\"\n",
    "    param woeid where On Earth ID\n",
    "    return weather information\n",
    "    \"\"\"\n",
    "    api_url = 'https://www.metaweather.com/api/location/{}/'.format(woeid)\n",
    "    headers = {}\n",
    "    \n",
    "    response = requests.get(api_url, headers=headers)\n",
    "\n",
    "    if response.status_code == 200:\n",
    "        return json.loads(response.content.decode('utf-8'))\n",
    "    else:\n",
    "        return []"
   ]
  },
  {
   "cell_type": "code",
   "execution_count": 15,
   "metadata": {},
   "outputs": [],
   "source": [
    "from prettytable import PrettyTable\n",
    "\n",
    "def print_weather(weather):\n",
    "    \"\"\"\n",
    "    Print weather information into table\n",
    "    \"\"\"\n",
    "\n",
    "    p = PrettyTable([\"Date\",\"Weather\",\"Wind Speed\",\"Humidity\", \"Temperature\"])\n",
    "    p.padding_width = 1\n",
    "    p.float_format='.2'\n",
    "    for key in p.align.keys():\n",
    "        p.align[key] = 'l'\n",
    "\n",
    "    for w in weather['consolidated_weather']:\n",
    "        p.add_row([w['applicable_date'], w['weather_state_name'], w['wind_speed'], w['humidity'], w['the_temp']])\n",
    "    print(p)"
   ]
  },
  {
   "cell_type": "markdown",
   "metadata": {},
   "source": [
    "#### Kiểm tra kết quả thời tiết của thành phố Tokyo bằng cách chạy đoạn code bên dưới.\n",
    "Kết quả mong đợi:\n",
    "```\n",
    "Weather Summary:\n",
    "Location: Tokyo\n",
    "Data/Time: 2019-05-05T22:06:57.029964+09:00\n",
    "+------------+-------------+------------+----------+-------------+\n",
    "| Date       | Weather     | Wind Speed | Humidity | Temperature |\n",
    "+------------+-------------+------------+----------+-------------+\n",
    "| 2019-05-05 | Heavy Cloud | 4.84       | 41       | 23.59       |\n",
    "| 2019-05-06 | Showers     | 10.49      | 46       | 22.98       |\n",
    "| 2019-05-07 | Heavy Cloud | 5.40       | 43       | 19.61       |\n",
    "| 2019-05-08 | Light Cloud | 8.42       | 32       | 21.81       |\n",
    "| 2019-05-09 | Heavy Cloud | 5.59       | 30       | 24.81       |\n",
    "| 2019-05-10 | Heavy Cloud | 4.17       | 27       | 26.39       |\n",
    "+------------+-------------+------------+----------+-------------+\n",
    "```"
   ]
  },
  {
   "cell_type": "code",
   "execution_count": 18,
   "metadata": {},
   "outputs": [
    {
     "name": "stdout",
     "output_type": "stream",
     "text": [
      "Weather Summary:\n",
      "Location: Tokyo\n",
      "Data/Time: 2019-05-05T22:10:14.262224+09:00\n",
      "+------------+-------------+------------+----------+-------------+\n",
      "| Date       | Weather     | Wind Speed | Humidity | Temperature |\n",
      "+------------+-------------+------------+----------+-------------+\n",
      "| 2019-05-05 | Heavy Cloud | 4.84       | 41       | 23.59       |\n",
      "| 2019-05-06 | Showers     | 10.49      | 46       | 22.98       |\n",
      "| 2019-05-07 | Heavy Cloud | 5.40       | 43       | 19.61       |\n",
      "| 2019-05-08 | Light Cloud | 8.42       | 32       | 21.81       |\n",
      "| 2019-05-09 | Heavy Cloud | 5.59       | 30       | 24.81       |\n",
      "| 2019-05-10 | Heavy Cloud | 4.17       | 27       | 26.39       |\n",
      "+------------+-------------+------------+----------+-------------+\n"
     ]
    }
   ],
   "source": [
    "weather = get_weather(1118370)\n",
    "assert weather['title'] == 'Tokyo'\n",
    "\n",
    "print('Weather Summary:')\n",
    "print('Location: {}'.format(weather['title']))\n",
    "print('Data/Time: {}'.format(weather['time']))\n",
    "\n",
    "print_weather(weather)\n"
   ]
  },
  {
   "cell_type": "code",
   "execution_count": null,
   "metadata": {},
   "outputs": [],
   "source": []
  }
 ],
 "metadata": {
  "kernelspec": {
   "display_name": "Python 3",
   "language": "python",
   "name": "python3"
  },
  "language_info": {
   "codemirror_mode": {
    "name": "ipython",
    "version": 3
   },
   "file_extension": ".py",
   "mimetype": "text/x-python",
   "name": "python",
   "nbconvert_exporter": "python",
   "pygments_lexer": "ipython3",
   "version": "3.6.6"
  }
 },
 "nbformat": 4,
 "nbformat_minor": 2
}
